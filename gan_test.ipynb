{
  "nbformat": 4,
  "nbformat_minor": 0,
  "metadata": {
    "colab": {
      "name": "gan-test.ipynb",
      "version": "0.3.2",
      "provenance": [],
      "include_colab_link": true
    },
    "kernelspec": {
      "name": "python3",
      "display_name": "Python 3"
    }
  },
  "cells": [
    {
      "cell_type": "markdown",
      "metadata": {
        "id": "view-in-github",
        "colab_type": "text"
      },
      "source": [
        "<a href=\"https://colab.research.google.com/github/kurotaky/colab-gan/blob/master/gan_test.ipynb\" target=\"_parent\"><img src=\"https://colab.research.google.com/assets/colab-badge.svg\" alt=\"Open In Colab\"/></a>"
      ]
    },
    {
      "metadata": {
        "id": "MjkpvFrCpX3N",
        "colab_type": "code",
        "colab": {
          "base_uri": "https://localhost:8080/",
          "height": 102
        },
        "outputId": "6524168c-54bc-41f5-828a-7e8dc48e8817"
      },
      "cell_type": "code",
      "source": [
        "!git clone https://github.com/carpedm20/DCGAN-tensorflow"
      ],
      "execution_count": 1,
      "outputs": [
        {
          "output_type": "stream",
          "text": [
            "Cloning into 'DCGAN-tensorflow'...\n",
            "remote: Enumerating objects: 1094, done.\u001b[K\n",
            "remote: Total 1094 (delta 0), reused 0 (delta 0), pack-reused 1094\u001b[K\n",
            "Receiving objects: 100% (1094/1094), 77.97 MiB | 34.08 MiB/s, done.\n",
            "Resolving deltas: 100% (618/618), done.\n"
          ],
          "name": "stdout"
        }
      ]
    },
    {
      "metadata": {
        "id": "p7b1uDtEzG_t",
        "colab_type": "code",
        "colab": {}
      },
      "cell_type": "code",
      "source": [
        "from google.colab import drive\n",
        "drive.mount('/content/drive')"
      ],
      "execution_count": 0,
      "outputs": []
    },
    {
      "metadata": {
        "id": "eo_JTystQMap",
        "colab_type": "code",
        "colab": {
          "base_uri": "https://localhost:8080/",
          "height": 34
        },
        "outputId": "c87e6a14-520c-4ca7-b44f-1934ce2c8ab9"
      },
      "cell_type": "code",
      "source": [
        "!mkdir DCGAN-tensorflow/data"
      ],
      "execution_count": 4,
      "outputs": [
        {
          "output_type": "stream",
          "text": [
            "mkdir: cannot create directory ‘DCGAN-tensorflow/data’: File exists\n"
          ],
          "name": "stdout"
        }
      ]
    },
    {
      "metadata": {
        "id": "8CW-6yw4QVgt",
        "colab_type": "code",
        "colab": {}
      },
      "cell_type": "code",
      "source": [
        "!ls -la drive/My\\ Drive/GAN-surisuri.zip "
      ],
      "execution_count": 0,
      "outputs": []
    },
    {
      "metadata": {
        "id": "Krgii_yNQSvq",
        "colab_type": "code",
        "colab": {}
      },
      "cell_type": "code",
      "source": [
        "!cp drive/My\\ Drive/GAN-surisuri.zip  DCGAN-tensorflow/data/GAN-surisuri.zip"
      ],
      "execution_count": 0,
      "outputs": []
    },
    {
      "metadata": {
        "id": "Ewy0gsf8VJKc",
        "colab_type": "code",
        "colab": {
          "base_uri": "https://localhost:8080/",
          "height": 34
        },
        "outputId": "e7888d76-19fd-4928-fc72-bf5ee1b3a640"
      },
      "cell_type": "code",
      "source": [
        "%cd DCGAN-tensorflow/data"
      ],
      "execution_count": 13,
      "outputs": [
        {
          "output_type": "stream",
          "text": [
            "/content/DCGAN-tensorflow/data\n"
          ],
          "name": "stdout"
        }
      ]
    },
    {
      "metadata": {
        "id": "FAxm47BEVNY3",
        "colab_type": "code",
        "colab": {}
      },
      "cell_type": "code",
      "source": [
        "!unzip -q GAN-surisuri.zip"
      ],
      "execution_count": 0,
      "outputs": []
    },
    {
      "metadata": {
        "id": "6AEnP8YiVgf2",
        "colab_type": "code",
        "colab": {
          "base_uri": "https://localhost:8080/",
          "height": 34
        },
        "outputId": "622e55d0-7582-4732-d8c3-f22aa44bedb3"
      },
      "cell_type": "code",
      "source": [
        "%cd .."
      ],
      "execution_count": 16,
      "outputs": [
        {
          "output_type": "stream",
          "text": [
            "/content/DCGAN-tensorflow\n"
          ],
          "name": "stdout"
        }
      ]
    },
    {
      "metadata": {
        "id": "14ofOlYbV6Np",
        "colab_type": "code",
        "colab": {
          "base_uri": "https://localhost:8080/",
          "height": 3352
        },
        "outputId": "449341e4-c067-4996-b32b-acd84d21aa0c"
      },
      "cell_type": "code",
      "source": [
        "!python main.py --dataset GAN-surisuri --batch_size=5 --epoch=25 --input_height=224 --input_width=259 --output_height=128 --output_width=148 --input_fname_pattern=\"*.png\" --train --crop"
      ],
      "execution_count": 21,
      "outputs": [
        {
          "output_type": "stream",
          "text": [
            "{'batch_size': <absl.flags._flag.Flag object at 0x7fc04ebbda20>,\n",
            " 'beta1': <absl.flags._flag.Flag object at 0x7fc04ebbd320>,\n",
            " 'checkpoint_dir': <absl.flags._flag.Flag object at 0x7fc03d9480f0>,\n",
            " 'crop': <absl.flags._flag.BooleanFlag object at 0x7fc03d9482b0>,\n",
            " 'data_dir': <absl.flags._flag.Flag object at 0x7fc03d948160>,\n",
            " 'dataset': <absl.flags._flag.Flag object at 0x7fc03d940f98>,\n",
            " 'epoch': <absl.flags._flag.Flag object at 0x7fc078ddb198>,\n",
            " 'generate_test_images': <absl.flags._flag.Flag object at 0x7fc03d9483c8>,\n",
            " 'h': <tensorflow.python.platform.app._HelpFlag object at 0x7fc03d948400>,\n",
            " 'help': <tensorflow.python.platform.app._HelpFlag object at 0x7fc03d948400>,\n",
            " 'helpfull': <tensorflow.python.platform.app._HelpfullFlag object at 0x7fc03d9484a8>,\n",
            " 'helpshort': <tensorflow.python.platform.app._HelpshortFlag object at 0x7fc03d948518>,\n",
            " 'input_fname_pattern': <absl.flags._flag.Flag object at 0x7fc03d948048>,\n",
            " 'input_height': <absl.flags._flag.Flag object at 0x7fc046cf5978>,\n",
            " 'input_width': <absl.flags._flag.Flag object at 0x7fc03d940e10>,\n",
            " 'learning_rate': <absl.flags._flag.Flag object at 0x7fc0549978d0>,\n",
            " 'output_height': <absl.flags._flag.Flag object at 0x7fc03d940e80>,\n",
            " 'output_width': <absl.flags._flag.Flag object at 0x7fc03d940f28>,\n",
            " 'sample_dir': <absl.flags._flag.Flag object at 0x7fc03d9481d0>,\n",
            " 'train': <absl.flags._flag.BooleanFlag object at 0x7fc03d948208>,\n",
            " 'train_size': <absl.flags._flag.Flag object at 0x7fc04ebbd9e8>,\n",
            " 'visualize': <absl.flags._flag.BooleanFlag object at 0x7fc03d948320>}\n",
            "2019-03-22 17:01:48.282750: I tensorflow/core/platform/profile_utils/cpu_utils.cc:94] CPU Frequency: 2300000000 Hz\n",
            "2019-03-22 17:01:48.283005: I tensorflow/compiler/xla/service/service.cc:150] XLA service 0x23d51e0 executing computations on platform Host. Devices:\n",
            "2019-03-22 17:01:48.283043: I tensorflow/compiler/xla/service/service.cc:158]   StreamExecutor device (0): <undefined>, <undefined>\n",
            "WARNING:tensorflow:From /usr/local/lib/python3.6/dist-packages/tensorflow/python/framework/op_def_library.py:263: colocate_with (from tensorflow.python.framework.ops) is deprecated and will be removed in a future version.\n",
            "Instructions for updating:\n",
            "Colocations handled automatically by placer.\n",
            "---------\n",
            "Variables: name (type shape) [size]\n",
            "---------\n",
            "generator/g_h0_lin/Matrix:0 (float32_ref 100x40960) [4096000, bytes: 16384000]\n",
            "generator/g_h0_lin/bias:0 (float32_ref 40960) [40960, bytes: 163840]\n",
            "generator/g_bn0/beta:0 (float32_ref 512) [512, bytes: 2048]\n",
            "generator/g_bn0/gamma:0 (float32_ref 512) [512, bytes: 2048]\n",
            "generator/g_h1/w:0 (float32_ref 5x5x256x512) [3276800, bytes: 13107200]\n",
            "generator/g_h1/biases:0 (float32_ref 256) [256, bytes: 1024]\n",
            "generator/g_bn1/beta:0 (float32_ref 256) [256, bytes: 1024]\n",
            "generator/g_bn1/gamma:0 (float32_ref 256) [256, bytes: 1024]\n",
            "generator/g_h2/w:0 (float32_ref 5x5x128x256) [819200, bytes: 3276800]\n",
            "generator/g_h2/biases:0 (float32_ref 128) [128, bytes: 512]\n",
            "generator/g_bn2/beta:0 (float32_ref 128) [128, bytes: 512]\n",
            "generator/g_bn2/gamma:0 (float32_ref 128) [128, bytes: 512]\n",
            "generator/g_h3/w:0 (float32_ref 5x5x64x128) [204800, bytes: 819200]\n",
            "generator/g_h3/biases:0 (float32_ref 64) [64, bytes: 256]\n",
            "generator/g_bn3/beta:0 (float32_ref 64) [64, bytes: 256]\n",
            "generator/g_bn3/gamma:0 (float32_ref 64) [64, bytes: 256]\n",
            "generator/g_h4/w:0 (float32_ref 5x5x3x64) [4800, bytes: 19200]\n",
            "generator/g_h4/biases:0 (float32_ref 3) [3, bytes: 12]\n",
            "discriminator/d_h0_conv/w:0 (float32_ref 5x5x3x64) [4800, bytes: 19200]\n",
            "discriminator/d_h0_conv/biases:0 (float32_ref 64) [64, bytes: 256]\n",
            "discriminator/d_h1_conv/w:0 (float32_ref 5x5x64x128) [204800, bytes: 819200]\n",
            "discriminator/d_h1_conv/biases:0 (float32_ref 128) [128, bytes: 512]\n",
            "discriminator/d_bn1/beta:0 (float32_ref 128) [128, bytes: 512]\n",
            "discriminator/d_bn1/gamma:0 (float32_ref 128) [128, bytes: 512]\n",
            "discriminator/d_h2_conv/w:0 (float32_ref 5x5x128x256) [819200, bytes: 3276800]\n",
            "discriminator/d_h2_conv/biases:0 (float32_ref 256) [256, bytes: 1024]\n",
            "discriminator/d_bn2/beta:0 (float32_ref 256) [256, bytes: 1024]\n",
            "discriminator/d_bn2/gamma:0 (float32_ref 256) [256, bytes: 1024]\n",
            "discriminator/d_h3_conv/w:0 (float32_ref 5x5x256x512) [3276800, bytes: 13107200]\n",
            "discriminator/d_h3_conv/biases:0 (float32_ref 512) [512, bytes: 2048]\n",
            "discriminator/d_bn3/beta:0 (float32_ref 512) [512, bytes: 2048]\n",
            "discriminator/d_bn3/gamma:0 (float32_ref 512) [512, bytes: 2048]\n",
            "discriminator/d_h4_lin/Matrix:0 (float32_ref 40960x1) [40960, bytes: 163840]\n",
            "discriminator/d_h4_lin/bias:0 (float32_ref 1) [1, bytes: 4]\n",
            "Total size of variables: 12794244\n",
            "Total bytes of variables: 51176976\n",
            " [*] Reading checkpoints...\n",
            " [*] Failed to find a checkpoint\n",
            " [!] Load failed...\n",
            "Epoch: [ 0/25] [   0/   1] time: 5.9151, d_loss: 51.14953232, g_loss: 0.00000000\n",
            "Epoch: [ 1/25] [   0/   1] time: 10.6461, d_loss: 46.18722153, g_loss: 0.00000000\n",
            "Epoch: [ 2/25] [   0/   1] time: 15.1591, d_loss: 50.47993088, g_loss: 0.00000000\n",
            "Epoch: [ 3/25] [   0/   1] time: 19.6320, d_loss: 45.36909103, g_loss: 0.00000000\n",
            "Epoch: [ 4/25] [   0/   1] time: 24.1129, d_loss: 45.81923676, g_loss: 0.00000000\n",
            "Epoch: [ 5/25] [   0/   1] time: 28.5676, d_loss: 52.04202271, g_loss: 0.00000000\n",
            "Epoch: [ 6/25] [   0/   1] time: 33.0691, d_loss: 39.71276474, g_loss: 0.00000000\n",
            "Epoch: [ 7/25] [   0/   1] time: 37.5704, d_loss: 52.54899979, g_loss: 0.00000000\n",
            "Epoch: [ 8/25] [   0/   1] time: 42.1008, d_loss: 54.30980301, g_loss: 0.00000000\n",
            "Epoch: [ 9/25] [   0/   1] time: 46.5868, d_loss: 32.57927704, g_loss: 0.00000000\n",
            "Epoch: [10/25] [   0/   1] time: 51.1070, d_loss: 38.32580948, g_loss: 0.00000000\n",
            "Epoch: [11/25] [   0/   1] time: 55.6274, d_loss: 44.08183670, g_loss: 0.00000000\n",
            "Epoch: [12/25] [   0/   1] time: 60.1330, d_loss: 47.34337234, g_loss: 0.00000000\n",
            "Epoch: [13/25] [   0/   1] time: 64.6454, d_loss: 36.20479965, g_loss: 0.00000000\n",
            "Epoch: [14/25] [   0/   1] time: 69.1409, d_loss: 32.17882919, g_loss: 0.00000000\n",
            "Epoch: [15/25] [   0/   1] time: 73.6229, d_loss: 40.96428299, g_loss: 0.00000000\n",
            "Epoch: [16/25] [   0/   1] time: 78.1244, d_loss: 46.44898224, g_loss: 0.00000000\n",
            "Epoch: [17/25] [   0/   1] time: 82.6021, d_loss: 34.04388809, g_loss: 0.00000000\n",
            "Epoch: [18/25] [   0/   1] time: 87.1248, d_loss: 26.18353271, g_loss: 0.00000000\n",
            "Epoch: [19/25] [   0/   1] time: 91.6419, d_loss: 35.87096405, g_loss: 0.00000000\n",
            "Epoch: [20/25] [   0/   1] time: 96.1531, d_loss: 40.98822021, g_loss: 0.00000000\n",
            "Epoch: [21/25] [   0/   1] time: 100.6316, d_loss: 34.67416000, g_loss: 0.00000000\n",
            "Epoch: [22/25] [   0/   1] time: 105.1351, d_loss: 30.11380577, g_loss: 0.00000000\n",
            "Epoch: [23/25] [   0/   1] time: 109.6389, d_loss: 35.22211838, g_loss: 0.00000000\n",
            "Epoch: [24/25] [   0/   1] time: 114.1747, d_loss: 37.60270309, g_loss: 0.00000000\n",
            " [*] 0\n",
            " [*] 1\n",
            " [*] 2\n",
            " [*] 3\n",
            " [*] 4\n",
            " [*] 5\n",
            " [*] 6\n",
            " [*] 7\n",
            " [*] 8\n",
            " [*] 9\n",
            " [*] 10\n",
            " [*] 11\n",
            " [*] 12\n",
            " [*] 13\n",
            " [*] 14\n",
            " [*] 15\n",
            " [*] 16\n",
            " [*] 17\n",
            " [*] 18\n",
            " [*] 19\n",
            " [*] 20\n",
            " [*] 21\n",
            " [*] 22\n",
            " [*] 23\n",
            " [*] 24\n",
            " [*] 25\n",
            " [*] 26\n",
            " [*] 27\n",
            " [*] 28\n",
            " [*] 29\n",
            " [*] 30\n",
            " [*] 31\n",
            " [*] 32\n",
            " [*] 33\n",
            " [*] 34\n",
            " [*] 35\n",
            " [*] 36\n",
            " [*] 37\n",
            " [*] 38\n",
            " [*] 39\n",
            " [*] 40\n",
            " [*] 41\n",
            " [*] 42\n",
            " [*] 43\n",
            " [*] 44\n",
            " [*] 45\n",
            " [*] 46\n",
            " [*] 47\n",
            " [*] 48\n",
            " [*] 49\n",
            " [*] 50\n",
            " [*] 51\n",
            " [*] 52\n",
            " [*] 53\n",
            " [*] 54\n",
            " [*] 55\n",
            " [*] 56\n",
            " [*] 57\n",
            " [*] 58\n",
            " [*] 59\n",
            " [*] 60\n",
            " [*] 61\n",
            " [*] 62\n",
            " [*] 63\n",
            " [*] 64\n",
            " [*] 65\n",
            " [*] 66\n",
            " [*] 67\n",
            " [*] 68\n",
            " [*] 69\n",
            " [*] 70\n",
            " [*] 71\n",
            " [*] 72\n",
            " [*] 73\n",
            " [*] 74\n",
            " [*] 75\n",
            " [*] 76\n",
            " [*] 77\n",
            " [*] 78\n",
            " [*] 79\n",
            " [*] 80\n",
            " [*] 81\n",
            " [*] 82\n",
            " [*] 83\n",
            " [*] 84\n",
            " [*] 85\n",
            " [*] 86\n",
            " [*] 87\n",
            " [*] 88\n",
            " [*] 89\n",
            " [*] 90\n",
            " [*] 91\n",
            " [*] 92\n",
            " [*] 93\n",
            " [*] 94\n",
            " [*] 95\n",
            " [*] 96\n",
            " [*] 97\n",
            " [*] 98\n",
            " [*] 99\n"
          ],
          "name": "stdout"
        }
      ]
    },
    {
      "metadata": {
        "id": "-fT9PzPFXGdS",
        "colab_type": "code",
        "colab": {
          "base_uri": "https://localhost:8080/",
          "height": 51
        },
        "outputId": "e9fd3a87-5e9d-4456-ffaa-73c3b4849596"
      },
      "cell_type": "code",
      "source": [
        "!ls -l /content/drive/My\\ Drive/Colab\\ Notebooks"
      ],
      "execution_count": 28,
      "outputs": [
        {
          "output_type": "stream",
          "text": [
            "total 18\n",
            "-rw------- 1 root root 17777 Mar 22 17:06 gan-test.ipynb\n"
          ],
          "name": "stdout"
        }
      ]
    },
    {
      "metadata": {
        "id": "tIRt57t-YQNi",
        "colab_type": "code",
        "colab": {
          "base_uri": "https://localhost:8080/",
          "height": 34
        },
        "outputId": "29b1dfa8-6351-4f4c-f7a9-01cbda4c17d1"
      },
      "cell_type": "code",
      "source": [
        "!cp -r samples /content/drive/My\\ Drive/Colab\\ Notebooks/samples1\n",
        "!cp -r logs /content/drive/My\\ Drive/Colab\\ Notebooks/logs1\n",
        "!cp -r checkpoint content/drive/My\\ Drive/Colab\\ Notebooks/checkpoint1"
      ],
      "execution_count": 29,
      "outputs": [
        {
          "output_type": "stream",
          "text": [
            "cp: cannot create directory 'content/drive/My Drive/Colab Notebooks/checkpoint1': No such file or directory\n"
          ],
          "name": "stdout"
        }
      ]
    },
    {
      "metadata": {
        "id": "eGJum7zmYZcE",
        "colab_type": "code",
        "colab": {
          "base_uri": "https://localhost:8080/",
          "height": 34
        },
        "outputId": "25d6bcfc-0610-42d4-f71b-0abc7dde2192"
      },
      "cell_type": "code",
      "source": [
        "!cp -r checkpoint content/drive/My\\ Drive/Colab\\ Notebooks/checkpoint1"
      ],
      "execution_count": 32,
      "outputs": [
        {
          "output_type": "stream",
          "text": [
            "cp: cannot create directory 'content/drive/My Drive/Colab Notebooks/checkpoint1': No such file or directory\n"
          ],
          "name": "stdout"
        }
      ]
    },
    {
      "metadata": {
        "id": "3ruRGIUSYo50",
        "colab_type": "code",
        "colab": {}
      },
      "cell_type": "code",
      "source": [
        "!cp -r checkpoint /content/drive/My\\ Drive/Colab\\ Notebooks/checkpoint1"
      ],
      "execution_count": 0,
      "outputs": []
    }
  ]
}